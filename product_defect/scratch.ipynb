{
 "cells": [
  {
   "cell_type": "code",
   "id": "initial_id",
   "metadata": {
    "collapsed": true,
    "ExecuteTime": {
     "end_time": "2025-01-30T14:54:31.388734Z",
     "start_time": "2025-01-30T14:54:30.695304Z"
    }
   },
   "source": "import pandas as pd",
   "outputs": [],
   "execution_count": 1
  },
  {
   "metadata": {
    "ExecuteTime": {
     "end_time": "2025-01-30T14:54:56.277363Z",
     "start_time": "2025-01-30T14:54:56.234694Z"
    }
   },
   "cell_type": "code",
   "source": "df = pd.read_csv(\"./data/train.csv\")",
   "id": "da6acaab485ce7a5",
   "outputs": [],
   "execution_count": 3
  },
  {
   "metadata": {
    "ExecuteTime": {
     "end_time": "2025-01-30T14:54:59.658255Z",
     "start_time": "2025-01-30T14:54:59.639284Z"
    }
   },
   "cell_type": "code",
   "source": "df.columns",
   "id": "6caa63b8e0c3741b",
   "outputs": [
    {
     "data": {
      "text/plain": [
       "Index(['ProductID', 'ProductionLine', 'Temperature', 'Pressure',\n",
       "       'AssemblyTime', 'Sensor1Reading', 'Sensor2Reading', 'Sensor3Reading',\n",
       "       'OperatorExperience', 'Defective'],\n",
       "      dtype='object')"
      ]
     },
     "execution_count": 4,
     "metadata": {},
     "output_type": "execute_result"
    }
   ],
   "execution_count": 4
  },
  {
   "metadata": {
    "ExecuteTime": {
     "end_time": "2025-01-30T15:08:50.424621Z",
     "start_time": "2025-01-30T15:08:50.411508Z"
    }
   },
   "cell_type": "code",
   "source": "df.OperatorExperience.unique()",
   "id": "72599d4ebb870ab2",
   "outputs": [
    {
     "data": {
      "text/plain": [
       "array([ 5.9,  1.9,  nan,  8.2,  5.2,  0.1,  2.2,  4.9,  9. ,  4.2,  5.1,\n",
       "        2.5,  4.5,  9.3,  6. ,  1.8,  1. ,  4. ,  1.6,  8.9,  8.5,  0.2,\n",
       "        1.2,  0.9,  1.4,  6.7,  6.4,  5.6,  9.8,  8.7,  7.6,  6.5,  6.1,\n",
       "        4.6,  1.3,  0.6,  5.5,  9.6,  3. ,  8.1,  6.9,  9.7,  1.5,  3.9,\n",
       "        7.3,  0.5,  7.4,  6.3,  4.7,  7.9,  9.9,  5. ,  9.4,  0.3,  3.2,\n",
       "        7.1,  3.4,  6.6,  2.7,  8.6,  5.7,  0.4,  2.9,  2. ,  4.8,  5.4,\n",
       "        0.8,  4.3,  5.3,  7.7,  3.6,  9.2,  3.3,  9.1,  2.3,  1.1,  7.8,\n",
       "        0. ,  7.5,  9.5,  3.1,  2.6,  8.8,  0.7,  7. ,  8.3,  7.2,  2.1,\n",
       "        8. ,  3.7,  1.7,  5.8,  8.4,  4.4,  4.1,  3.8,  6.2,  3.5,  2.4,\n",
       "       10. ,  2.8,  6.8])"
      ]
     },
     "execution_count": 46,
     "metadata": {},
     "output_type": "execute_result"
    }
   ],
   "execution_count": 46
  },
  {
   "metadata": {
    "ExecuteTime": {
     "end_time": "2025-01-30T15:01:16.760451Z",
     "start_time": "2025-01-30T15:01:16.726355Z"
    }
   },
   "cell_type": "code",
   "source": "sum(df.Defective.isna())",
   "id": "d26af44205fda4a7",
   "outputs": [
    {
     "data": {
      "text/plain": [
       "0"
      ]
     },
     "execution_count": 37,
     "metadata": {},
     "output_type": "execute_result"
    }
   ],
   "execution_count": 37
  },
  {
   "metadata": {},
   "cell_type": "code",
   "outputs": [],
   "execution_count": null,
   "source": "",
   "id": "c4027723f0e4b80d"
  }
 ],
 "metadata": {
  "kernelspec": {
   "display_name": "Python 3",
   "language": "python",
   "name": "python3"
  },
  "language_info": {
   "codemirror_mode": {
    "name": "ipython",
    "version": 2
   },
   "file_extension": ".py",
   "mimetype": "text/x-python",
   "name": "python",
   "nbconvert_exporter": "python",
   "pygments_lexer": "ipython2",
   "version": "2.7.6"
  }
 },
 "nbformat": 4,
 "nbformat_minor": 5
}
