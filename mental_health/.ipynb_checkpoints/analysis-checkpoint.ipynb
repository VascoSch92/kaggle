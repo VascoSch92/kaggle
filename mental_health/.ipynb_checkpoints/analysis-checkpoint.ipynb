{
 "cells": [
  {
   "cell_type": "markdown",
   "id": "4b5010ff-eeb1-440e-bbd5-8036471174f1",
   "metadata": {},
   "source": [
    "# Analysis for mental health data"
   ]
  },
  {
   "cell_type": "markdown",
   "id": "0fb9ebf3-eedb-4158-9a18-a043c0964bea",
   "metadata": {},
   "source": [
    "## Import and Load"
   ]
  },
  {
   "cell_type": "code",
   "execution_count": 54,
   "id": "a9540a20-510c-485f-b721-27c1182295ac",
   "metadata": {},
   "outputs": [],
   "source": [
    "import pandas as pd\n",
    "import seaborn as sns"
   ]
  },
  {
   "cell_type": "code",
   "execution_count": 9,
   "id": "ec03654d-3c48-4399-8cb0-4887473db2d5",
   "metadata": {},
   "outputs": [
    {
     "name": "stdout",
     "output_type": "stream",
     "text": [
      "df_train: 140700 rows x 20 columns\n",
      "df_test: 93800 rows x 19 columns\n"
     ]
    }
   ],
   "source": [
    "df_train = pd.read_csv(\"./data/train.csv\")\n",
    "df_test = pd.read_csv(\"./data/test.csv\")\n",
    "\n",
    "print(f\"df_train: {len(df_train)} rows x {len(df_train.columns)} columns\")\n",
    "print(f\"df_test: {len(df_test)} rows x {len(df_test.columns)} columns\")"
   ]
  },
  {
   "cell_type": "markdown",
   "id": "adf71c06-fa3a-46a0-805f-d416bee79d77",
   "metadata": {},
   "source": [
    "## Missing Values"
   ]
  },
  {
   "cell_type": "code",
   "execution_count": 15,
   "id": "ef9b8c30-16bd-4817-88bd-36724f91da23",
   "metadata": {},
   "outputs": [
    {
     "data": {
      "text/html": [
       "<div>\n",
       "<style scoped>\n",
       "    .dataframe tbody tr th:only-of-type {\n",
       "        vertical-align: middle;\n",
       "    }\n",
       "\n",
       "    .dataframe tbody tr th {\n",
       "        vertical-align: top;\n",
       "    }\n",
       "\n",
       "    .dataframe thead th {\n",
       "        text-align: right;\n",
       "    }\n",
       "</style>\n",
       "<table border=\"1\" class=\"dataframe\">\n",
       "  <thead>\n",
       "    <tr style=\"text-align: right;\">\n",
       "      <th></th>\n",
       "      <th>train</th>\n",
       "      <th>test</th>\n",
       "    </tr>\n",
       "  </thead>\n",
       "  <tbody>\n",
       "    <tr>\n",
       "      <th>id</th>\n",
       "      <td>0</td>\n",
       "      <td>0.0</td>\n",
       "    </tr>\n",
       "    <tr>\n",
       "      <th>Name</th>\n",
       "      <td>0</td>\n",
       "      <td>0.0</td>\n",
       "    </tr>\n",
       "    <tr>\n",
       "      <th>Gender</th>\n",
       "      <td>0</td>\n",
       "      <td>0.0</td>\n",
       "    </tr>\n",
       "    <tr>\n",
       "      <th>Age</th>\n",
       "      <td>0</td>\n",
       "      <td>0.0</td>\n",
       "    </tr>\n",
       "    <tr>\n",
       "      <th>City</th>\n",
       "      <td>0</td>\n",
       "      <td>0.0</td>\n",
       "    </tr>\n",
       "    <tr>\n",
       "      <th>Working Professional or Student</th>\n",
       "      <td>0</td>\n",
       "      <td>0.0</td>\n",
       "    </tr>\n",
       "    <tr>\n",
       "      <th>Profession</th>\n",
       "      <td>36630</td>\n",
       "      <td>24632.0</td>\n",
       "    </tr>\n",
       "    <tr>\n",
       "      <th>Academic Pressure</th>\n",
       "      <td>112803</td>\n",
       "      <td>75033.0</td>\n",
       "    </tr>\n",
       "    <tr>\n",
       "      <th>Work Pressure</th>\n",
       "      <td>27918</td>\n",
       "      <td>18778.0</td>\n",
       "    </tr>\n",
       "    <tr>\n",
       "      <th>CGPA</th>\n",
       "      <td>112802</td>\n",
       "      <td>75034.0</td>\n",
       "    </tr>\n",
       "    <tr>\n",
       "      <th>Study Satisfaction</th>\n",
       "      <td>112803</td>\n",
       "      <td>75033.0</td>\n",
       "    </tr>\n",
       "    <tr>\n",
       "      <th>Job Satisfaction</th>\n",
       "      <td>27910</td>\n",
       "      <td>18774.0</td>\n",
       "    </tr>\n",
       "    <tr>\n",
       "      <th>Sleep Duration</th>\n",
       "      <td>0</td>\n",
       "      <td>0.0</td>\n",
       "    </tr>\n",
       "    <tr>\n",
       "      <th>Dietary Habits</th>\n",
       "      <td>4</td>\n",
       "      <td>5.0</td>\n",
       "    </tr>\n",
       "    <tr>\n",
       "      <th>Degree</th>\n",
       "      <td>2</td>\n",
       "      <td>2.0</td>\n",
       "    </tr>\n",
       "    <tr>\n",
       "      <th>Have you ever had suicidal thoughts ?</th>\n",
       "      <td>0</td>\n",
       "      <td>0.0</td>\n",
       "    </tr>\n",
       "    <tr>\n",
       "      <th>Work/Study Hours</th>\n",
       "      <td>0</td>\n",
       "      <td>0.0</td>\n",
       "    </tr>\n",
       "    <tr>\n",
       "      <th>Financial Stress</th>\n",
       "      <td>4</td>\n",
       "      <td>0.0</td>\n",
       "    </tr>\n",
       "    <tr>\n",
       "      <th>Family History of Mental Illness</th>\n",
       "      <td>0</td>\n",
       "      <td>0.0</td>\n",
       "    </tr>\n",
       "    <tr>\n",
       "      <th>Depression</th>\n",
       "      <td>0</td>\n",
       "      <td>NaN</td>\n",
       "    </tr>\n",
       "  </tbody>\n",
       "</table>\n",
       "</div>"
      ],
      "text/plain": [
       "                                        train     test\n",
       "id                                          0      0.0\n",
       "Name                                        0      0.0\n",
       "Gender                                      0      0.0\n",
       "Age                                         0      0.0\n",
       "City                                        0      0.0\n",
       "Working Professional or Student             0      0.0\n",
       "Profession                              36630  24632.0\n",
       "Academic Pressure                      112803  75033.0\n",
       "Work Pressure                           27918  18778.0\n",
       "CGPA                                   112802  75034.0\n",
       "Study Satisfaction                     112803  75033.0\n",
       "Job Satisfaction                        27910  18774.0\n",
       "Sleep Duration                              0      0.0\n",
       "Dietary Habits                              4      5.0\n",
       "Degree                                      2      2.0\n",
       "Have you ever had suicidal thoughts ?       0      0.0\n",
       "Work/Study Hours                            0      0.0\n",
       "Financial Stress                            4      0.0\n",
       "Family History of Mental Illness            0      0.0\n",
       "Depression                                  0      NaN"
      ]
     },
     "execution_count": 15,
     "metadata": {},
     "output_type": "execute_result"
    }
   ],
   "source": [
    "pd.DataFrame({\n",
    "    'train': df_train.isna().sum().to_dict(),\n",
    "    'test': df_test.isna().sum().to_dict(),\n",
    "})"
   ]
  },
  {
   "cell_type": "markdown",
   "id": "1c51cb70-48af-48f9-8564-f5e5e3735374",
   "metadata": {},
   "source": [
    "### Profession Missing Values\n",
    "\n",
    "We complete this column with the column \"Working Professional or Student\", i.e., if the value of the column \"Profession\" is missing we fill it with the value of the column \"Working Professional or Student\""
   ]
  },
  {
   "cell_type": "code",
   "execution_count": 35,
   "id": "f584ca0e-dd67-4d1a-b682-2f9127b29084",
   "metadata": {},
   "outputs": [
    {
     "data": {
      "text/plain": [
       "Working Professional or Student\n",
       "Student                            27867\n",
       "Working Professional                8763\n",
       "Name: count, dtype: int64"
      ]
     },
     "execution_count": 35,
     "metadata": {},
     "output_type": "execute_result"
    }
   ],
   "source": [
    "df_train[[\"Working Professional or Student\"]][df_train.Profession.isna() == True].value_counts()"
   ]
  },
  {
   "cell_type": "code",
   "execution_count": 36,
   "id": "4dd5b54e-4f08-497e-a332-b4cd30384d6d",
   "metadata": {},
   "outputs": [
    {
     "data": {
      "text/plain": [
       "Working Professional or Student\n",
       "Working Professional               112799\n",
       "Student                             27901\n",
       "Name: count, dtype: int64"
      ]
     },
     "execution_count": 36,
     "metadata": {},
     "output_type": "execute_result"
    }
   ],
   "source": [
    "df_train[[\"Working Professional or Student\"]].value_counts()"
   ]
  },
  {
   "cell_type": "code",
   "execution_count": 37,
   "id": "daf01598-7d69-4e07-a2be-a7433318ccdc",
   "metadata": {},
   "outputs": [],
   "source": [
    "df_train[\"Profession\"] = df_train[\"Profession\"].fillna(df_train[\"Working Professional or Student\"])\n",
    "df_test[\"Profession\"] = df_test[\"Profession\"].fillna(df_test[\"Working Professional or Student\"])"
   ]
  },
  {
   "cell_type": "markdown",
   "id": "bb3200a0-a636-4dc3-95ca-d4341010445b",
   "metadata": {},
   "source": [
    "### Accademic Preassure & Work Pressure\n",
    "\n",
    "We extract just one column \"Pressure\" from these two columns. As they are complementary."
   ]
  },
  {
   "cell_type": "code",
   "execution_count": 43,
   "id": "ad19666c-eb02-4ed3-973b-daeeb233ee54",
   "metadata": {},
   "outputs": [
    {
     "data": {
      "text/plain": [
       "Working Professional or Student\n",
       "Working Professional               112794\n",
       "Student                                 9\n",
       "Name: count, dtype: int64"
      ]
     },
     "execution_count": 43,
     "metadata": {},
     "output_type": "execute_result"
    }
   ],
   "source": [
    "df_train[[\"Working Professional or Student\"]][df_train[\"Academic Pressure\"].isna() == True].value_counts()"
   ]
  },
  {
   "cell_type": "code",
   "execution_count": 45,
   "id": "1c428a33-3aac-4150-b078-dc366f645f53",
   "metadata": {},
   "outputs": [
    {
     "data": {
      "text/plain": [
       "Working Professional or Student\n",
       "Student                            27898\n",
       "Working Professional                  20\n",
       "Name: count, dtype: int64"
      ]
     },
     "execution_count": 45,
     "metadata": {},
     "output_type": "execute_result"
    }
   ],
   "source": [
    "df_train[[\"Working Professional or Student\"]][df_train[\"Work Pressure\"].isna() == True].value_counts()"
   ]
  },
  {
   "cell_type": "code",
   "execution_count": 47,
   "id": "34f1d6bf-10b1-4b8c-939e-5d94c4ee8c2c",
   "metadata": {},
   "outputs": [],
   "source": [
    "df_train[\"Pressure\"] = df_train[\"Academic Pressure\"].fillna(df_train[\"Work Pressure\"])\n",
    "df_test[\"Pressure\"] = df_test[\"Academic Pressure\"].fillna(df_test[\"Work Pressure\"])"
   ]
  },
  {
   "cell_type": "markdown",
   "id": "e3be67c9-3546-4046-9b9a-02d18a049a23",
   "metadata": {},
   "source": [
    "### CGPA\n",
    "\n",
    "We complete this column with 0 as if is missing, then you are not a student and so you have 0."
   ]
  },
  {
   "cell_type": "code",
   "execution_count": 49,
   "id": "bdc3bee1-dae0-487a-be99-21e8a742eb6c",
   "metadata": {},
   "outputs": [
    {
     "data": {
      "text/plain": [
       "Working Professional or Student\n",
       "Working Professional               112793\n",
       "Student                                 9\n",
       "Name: count, dtype: int64"
      ]
     },
     "execution_count": 49,
     "metadata": {},
     "output_type": "execute_result"
    }
   ],
   "source": [
    "df_train[[\"Working Professional or Student\"]][df_train[\"CGPA\"].isna() == True].value_counts()"
   ]
  },
  {
   "cell_type": "code",
   "execution_count": 51,
   "id": "057073c1-b6ac-4620-bdd6-b7f2719239c3",
   "metadata": {},
   "outputs": [],
   "source": [
    "df_train[\"CGPA\"] = df_train[\"CGPA\"].fillna(0)\n",
    "df_test[\"CGPA\"] = df_test[\"CGPA\"].fillna(0)"
   ]
  },
  {
   "cell_type": "markdown",
   "id": "8eca4eec-25e6-48f7-8097-6394013b0909",
   "metadata": {},
   "source": [
    "### Study Satisfaction and Work Satisfaction\n",
    "\n",
    "Same reasonement as \"Pressure\"."
   ]
  },
  {
   "cell_type": "code",
   "execution_count": 52,
   "id": "74157d7c-c377-4e80-b343-ff7841aaa4c8",
   "metadata": {},
   "outputs": [],
   "source": [
    "df_train[\"Satisfaction\"] = df_train[\"Study Satisfaction\"].fillna(df_train[\"Job Satisfaction\"])\n",
    "df_test[\"Satisfaction\"] = df_test[\"Study Satisfaction\"].fillna(df_test[\"Job Satisfaction\"])"
   ]
  },
  {
   "cell_type": "markdown",
   "id": "a56af912-0324-40bb-b980-64bf97dab1a9",
   "metadata": {},
   "source": [
    "## Features Engeneering\n",
    "\n",
    "### Degree"
   ]
  },
  {
   "cell_type": "code",
   "execution_count": null,
   "id": "ce626633-533f-49db-a42f-9b4ec2f19c56",
   "metadata": {},
   "outputs": [],
   "source": []
  },
  {
   "cell_type": "code",
   "execution_count": 114,
   "id": "7122883a-fa68-407e-a523-41de04ab244c",
   "metadata": {},
   "outputs": [],
   "source": [
    "bachelor = {'BACHELOR', 'BSTUDENT','B', 'BE', 'BSC', 'BCA', 'BHM', 'BA', 'BBA', 'BPHARM', 'BARCH', 'BTECH', 'LLB', 'BED', 'BCOM', 'BBCOM', 'BPA', 'BHOPAL'}\n",
    "master = {'MASTER', 'M', 'MBA', 'MCA', 'MA', 'ME', 'MCOM', 'MSC', 'MTECH', 'LLM', 'M.PHARM', 'MPA', 'MD', 'MHM','LLS', 'LLED', 'LCA', 'LLBA', 'LLCOM', 'LED', 'MED', 'MBBS', 'LLBED', 'LHM', 'LLTECH'}\n",
    "high_school = {'HIGHSCHOOL', 'CLASS12', 'PLUMBER', 'CLASS', 'CLASS11'}\n",
    "\n",
    "def categorize_degree(degree):\n",
    "    degree = str(degree).replace('.', '').replace(' ', '').replace('_', '').replace('-', '').upper()\n",
    "    if degree in bachelor:\n",
    "        return 'bachelor'\n",
    "    elif degree in master:\n",
    "        return 'master'\n",
    "    elif degree in {'PHD', 'DOCTOR', 'DOCTORATE'}:\n",
    "        return 'doctorate'\n",
    "    elif degree in high_school:\n",
    "        return \"high_school\"\n",
    "    else:\n",
    "        return None\n",
    "\n",
    "df_train['Degree'] = df_train.Degree.apply(lambda x: categorize_degree(degree=x))\n",
    "df_test['Degree'] = df_test.Degree.apply(lambda x: categorize_degree(degree=x))"
   ]
  },
  {
   "cell_type": "code",
   "execution_count": null,
   "id": "f5cb0d71-8a19-4dcb-9dd4-fbf0eaf919cf",
   "metadata": {},
   "outputs": [],
   "source": []
  }
 ],
 "metadata": {
  "kernelspec": {
   "display_name": "Python 3 (ipykernel)",
   "language": "python",
   "name": "python3"
  },
  "language_info": {
   "codemirror_mode": {
    "name": "ipython",
    "version": 3
   },
   "file_extension": ".py",
   "mimetype": "text/x-python",
   "name": "python",
   "nbconvert_exporter": "python",
   "pygments_lexer": "ipython3",
   "version": "3.10.15"
  }
 },
 "nbformat": 4,
 "nbformat_minor": 5
}
